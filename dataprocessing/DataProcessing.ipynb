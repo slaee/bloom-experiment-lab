{
 "cells": [
  {
   "cell_type": "code",
   "execution_count": 84,
   "metadata": {},
   "outputs": [],
   "source": [
    "import subprocess\n",
    "import os\n",
    "import re"
   ]
  },
  {
   "cell_type": "code",
   "execution_count": 85,
   "metadata": {},
   "outputs": [],
   "source": [
    "js_getVARS_loc = os.path.join(os.path.abspath('parsergen'), \"get_vars.js\")\n",
    "php_getVARS_loc = os.path.join(os.path.abspath('parsergen'), \"get_vars.php\")\n",
    "php_samples_loc = os.path.join(os.path.abspath('parsergen'), \"php_samples\")\n",
    "js_samples_loc = os.path.join(os.path.abspath('parsergen'), \"js_samples\")"
   ]
  },
  {
   "cell_type": "code",
   "execution_count": 86,
   "metadata": {},
   "outputs": [
    {
     "name": "stdout",
     "output_type": "stream",
     "text": [
      "/home/shanks/CSE_00003_A/bloom-experiment-lab/dataprocessing/parsergen/get_vars.js\n",
      "/home/shanks/CSE_00003_A/bloom-experiment-lab/dataprocessing/parsergen/get_vars.php\n",
      "/home/shanks/CSE_00003_A/bloom-experiment-lab/dataprocessing/parsergen/php_samples\n",
      "/home/shanks/CSE_00003_A/bloom-experiment-lab/dataprocessing/parsergen/js_samples\n"
     ]
    }
   ],
   "source": [
    "print(js_getVARS_loc)\n",
    "print(php_getVARS_loc)\n",
    "print(php_samples_loc)\n",
    "print(js_samples_loc)"
   ]
  },
  {
   "cell_type": "code",
   "execution_count": 87,
   "metadata": {},
   "outputs": [
    {
     "name": "stdout",
     "output_type": "stream",
     "text": [
      "['/home/shanks/CSE_00003_A/bloom-experiment-lab/dataprocessing/parsergen/php_samples/sample1.php']\n",
      "['/home/shanks/CSE_00003_A/bloom-experiment-lab/dataprocessing/parsergen/js_samples/sample1.js']\n"
     ]
    }
   ],
   "source": [
    "# Get all files with parent directory\n",
    "php_samples = [os.path.join(php_samples_loc, f) for f in os.listdir(php_samples_loc) if os.path.isfile(os.path.join(php_samples_loc, f))]\n",
    "js_samples = [os.path.join(js_samples_loc, f) for f in os.listdir(js_samples_loc) if os.path.isfile(os.path.join(js_samples_loc, f))]\n",
    "\n",
    "print(php_samples)\n",
    "print(js_samples)"
   ]
  },
  {
   "cell_type": "code",
   "execution_count": 88,
   "metadata": {},
   "outputs": [],
   "source": [
    "js_get_vars_sourcetype = \"module\"\n",
    "node_cmd = [\"node\", js_getVARS_loc, js_get_vars_sourcetype, js_samples[0]]\n",
    "php_cmd = [\"php\", php_getVARS_loc, php_samples[0]]\n",
    "\n",
    "try:\n",
    "    node_output = subprocess.check_output(node_cmd, stderr=subprocess.PIPE).decode('utf-8')\n",
    "    jsvars = node_output.split(',')\n",
    "    php_output = subprocess.check_output(php_cmd, stderr=subprocess.PIPE).decode('utf-8')\n",
    "    phpvars = php_output.split(',')\n",
    "except subprocess.CalledProcessError as e:\n",
    "    print(e.stderr)\n"
   ]
  },
  {
   "cell_type": "code",
   "execution_count": 89,
   "metadata": {},
   "outputs": [
    {
     "name": "stdout",
     "output_type": "stream",
     "text": [
      "['express', 'crypto', 'app', 'db', 'FLAG', 'PORT', 'users', 'isAdmin', 'newAdmin', 'undefined', 'query', 'id']\n",
      "['$input', '$data', '$api_url', '$options', '$context', '$result', \"$_POST['login-submit']\", \"$_POST['username']\", \"$_POST['password']\", '$username', '$password', \"$_SERVER['REMOTE_ADDR']\"]\n"
     ]
    }
   ],
   "source": [
    "print(jsvars)\n",
    "print(phpvars)"
   ]
  },
  {
   "cell_type": "code",
   "execution_count": 136,
   "metadata": {},
   "outputs": [
    {
     "name": "stdout",
     "output_type": "stream",
     "text": [
      "[\"const express = require('express');\", \"const crypto = require('crypto');\", 'const app = express();', \"const db = require('better-sqlite3')('db.sqlite3');\", 'db.exec(`DROP TABLE IF EXISTS users;`);', 'db.exec(`CREATE TABLE users(', 'id INTEGER PRIMARY KEY,', 'username TEXT,', 'password TEXT', 'const FLAG = process.env.FLAG || \"dice{test_flag}\";', 'const PORT = process.env.PORT || 3000;', 'const users = [...Array(100_000)].map(() => ({ user: `user-${crypto.randomUUID()}`, pass: crypto.randomBytes(8).toString(\"hex\") }));', 'db.exec(`INSERT INTO users (id, username, password) VALUES ${users.map((u,i) => `(${i}, \\'${u.user}\\', \\'${u.pass}\\')`).join(\", \")}`);', 'const isAdmin = {};', 'const newAdmin = users[Math.floor(Math.random() * users.length)];', 'isAdmin[newAdmin.user] = true;', 'app.use(express.urlencoded({ extended: false }));', 'app.use(express.static(\"public\"));', 'app.post(\"/api/login\", (req, res) => {', 'const { user, pass } = req.body;', 'console.log(\"[REQUEST BODY] : \", req.body)', \"const query = `SELECT id FROM users WHERE username = '${user}' AND password = '${pass}';`;\", 'try {', 'const id = db.prepare(query).get()?.id;', 'console.log(query, \"[ID] : \", id)', 'if (!id) {', 'return res.redirect(\"/?message=Incorrect username or password\");', 'if (users[id] && isAdmin[user]) {', 'console.log(\"Bypassing login...\")', 'return res.redirect(\"/?flag=\" + encodeURIComponent(FLAG));', 'return res.redirect(\"/?message=This system is currently only available to admins...\");', 'catch {', 'return res.redirect(\"/?message=Nice try...\");', 'app.listen(PORT, () => console.log(`web/funnylogin listening on port ${PORT}`));']\n",
      "['error_reporting(0);', 'function Check_Admin($input)', \"$input=iconv('UTF-8', 'US-ASCII\", 'if(preg_match(\"/admin/i\",$input))', 'return true;', 'else', 'return false;', 'function send_to_api($data)', 'print_r($data);', \"$api_url = 'http://127.0.0.1:5000/login';\", '$options = [', \"'http' => [\", \"'method' => 'POST',\", \"'header' => 'Content-Type: application/x-www-form-urlencoded',\", \"'content' => $data,\", '$context = stream_context_create($options);', '$result = file_get_contents($api_url, false, $context);', 'if ($result !== false)', 'echo \"Response from Flask app: $result\";', 'else', 'echo \"Failed to communicate with Flask app.\";', \"if(isset($_POST['login-submit']))\", \"if(!empty($_POST['username'])&&!empty($_POST['password']))\", \"$username=$_POST['username'];\", \"$password=md5($_POST['password']);\", 'if(Check_Admin($username) && $_SERVER[\\'REMOTE_ADDR\\']!==\"127.0.0.1\")', 'die(\"Admin Login allowed from localhost only : )\");', 'else', 'send_to_api(file_get_contents(\"php://input\"));', 'else', 'echo \"<script>alert(\\'Please Fill All Fields\\')</script>\";']\n"
     ]
    }
   ],
   "source": [
    "def code_cleaner(filename):\n",
    "    with open(filename, 'r') as f:\n",
    "        code = f.read()\n",
    "\n",
    "    # GENERAL: \n",
    "    # remove multiline comments single line\n",
    "    code = re.sub(r'/\\*(.*?)\\*/', '', code, flags=re.DOTALL)\n",
    "    # remove all single line comments except for the ones that are in a string like ', \", or `\n",
    "    code = re.sub(r'(?<!:)(//|#)(?!:).*', '', code)\n",
    "\n",
    "\n",
    "    # make concatenated strings that uses '+' operator single line\n",
    "    code = re.sub(r'\\+\\s*\\'', '', code)\n",
    "    # make concatenated strings that uses '.' operator single line\n",
    "    code = re.sub(r'\\.\\s*\\'', '', code)\n",
    "    # split code into lines\n",
    "    code = code.split('\\n')\n",
    "    # remove leading and trailing whitespace\n",
    "    code = [line.strip() for line in code]\n",
    "\n",
    "    # remove all elements that are symbols only in a string\n",
    "    code = [line for line in code if not re.match(r'^\\W+$', line)]\n",
    "\n",
    "    # PHP:\n",
    "    # remove all php tags\n",
    "    code = [line for line in code if not line.startswith('<?php') and not line.startswith('?>')]\n",
    "\n",
    "    # lastly remove all empty lines\n",
    "    code = list(filter(None, code))\n",
    "\n",
    "    return code\n",
    "\n",
    "js_code = code_cleaner(js_samples[0])\n",
    "php_code = code_cleaner(php_samples[0])\n",
    "\n",
    "print(js_code)\n",
    "print(php_code)\n",
    "\n"
   ]
  }
 ],
 "metadata": {
  "kernelspec": {
   "display_name": "Python 3",
   "language": "python",
   "name": "python3"
  },
  "language_info": {
   "codemirror_mode": {
    "name": "ipython",
    "version": 3
   },
   "file_extension": ".py",
   "mimetype": "text/x-python",
   "name": "python",
   "nbconvert_exporter": "python",
   "pygments_lexer": "ipython3",
   "version": "3.11.8"
  }
 },
 "nbformat": 4,
 "nbformat_minor": 2
}
