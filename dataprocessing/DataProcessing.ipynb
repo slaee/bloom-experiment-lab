{
 "cells": [
  {
   "cell_type": "code",
   "execution_count": null,
   "metadata": {},
   "outputs": [],
   "source": [
    "import subprocess\n",
    "import os\n",
    "import re\n",
    "from pprint import pprint"
   ]
  },
  {
   "cell_type": "code",
   "execution_count": null,
   "metadata": {},
   "outputs": [],
   "source": [
    "js_getVARS_loc = os.path.join(os.path.abspath('parsergen'), \"get_vars.js\")\n",
    "php_getVARS_loc = os.path.join(os.path.abspath('parsergen'), \"get_vars.php\")\n",
    "php_samples_loc = os.path.join(os.path.abspath('parsergen'), \"php_samples\")\n",
    "js_samples_loc = os.path.join(os.path.abspath('parsergen'), \"js_samples\")"
   ]
  },
  {
   "cell_type": "code",
   "execution_count": null,
   "metadata": {},
   "outputs": [
    {
     "name": "stdout",
     "output_type": "stream",
     "text": [
      "/home/srn/Desktop/bloom-experiment-lab/dataprocessing/parsergen/get_vars.js\n",
      "/home/srn/Desktop/bloom-experiment-lab/dataprocessing/parsergen/get_vars.php\n",
      "/home/srn/Desktop/bloom-experiment-lab/dataprocessing/parsergen/php_samples\n",
      "/home/srn/Desktop/bloom-experiment-lab/dataprocessing/parsergen/js_samples\n"
     ]
    }
   ],
   "source": [
    "print(js_getVARS_loc)\n",
    "print(php_getVARS_loc)\n",
    "print(php_samples_loc)\n",
    "print(js_samples_loc)"
   ]
  },
  {
   "cell_type": "code",
   "execution_count": null,
   "metadata": {},
   "outputs": [
    {
     "name": "stdout",
     "output_type": "stream",
     "text": [
      "['/home/srn/Desktop/bloom-experiment-lab/dataprocessing/parsergen/js_samples/sample1.js']\n",
      "['/home/srn/Desktop/bloom-experiment-lab/dataprocessing/parsergen/php_samples/sample1.php', '/home/srn/Desktop/bloom-experiment-lab/dataprocessing/parsergen/php_samples/sample2.php']\n"
     ]
    }
   ],
   "source": [
    "# Get all files with parent directory\n",
    "php_samples = [os.path.join(php_samples_loc, f) for f in os.listdir(php_samples_loc) if os.path.isfile(os.path.join(php_samples_loc, f))]\n",
    "js_samples = [os.path.join(js_samples_loc, f) for f in os.listdir(js_samples_loc) if os.path.isfile(os.path.join(js_samples_loc, f))]\n",
    "\n",
    "print(js_samples)\n",
    "print(php_samples)"
   ]
  },
  {
   "cell_type": "code",
   "execution_count": null,
   "metadata": {},
   "outputs": [],
   "source": [
    "js_get_vars_sourcetype = \"module\"\n",
    "node_cmd = [\"node\", js_getVARS_loc, js_get_vars_sourcetype, js_samples[0]]\n",
    "php_cmd = [\"php\", php_getVARS_loc, php_samples[0]]\n",
    "\n",
    "js_vars = []\n",
    "php_vars = []\n",
    "\n",
    "try:\n",
    "    node_output = subprocess.check_output(node_cmd, stderr=subprocess.PIPE).decode('utf-8')\n",
    "    js_vars = node_output.split(',')\n",
    "    php_output = subprocess.check_output(php_cmd, stderr=subprocess.PIPE).decode('utf-8')\n",
    "    php_vars = php_output.split(',')\n",
    "except subprocess.CalledProcessError as e:\n",
    "    print(e.stderr)\n"
   ]
  },
  {
   "cell_type": "code",
   "execution_count": null,
   "metadata": {},
   "outputs": [
    {
     "name": "stdout",
     "output_type": "stream",
     "text": [
      "['express', 'crypto', 'app', 'db', 'FLAG', 'PORT', 'users', 'isAdmin', 'newAdmin', 'user', 'pass', 'query', 'id']\n",
      "['$a', '$b', \"$_GET['q']\", '$sql', \"$_SERVER['REQUEST_METHOD']\", '$c', \"$_POST['c']\", '$input', '$data', '$api_url', '$options', '$context', '$result', \"$_POST['login-submit']\", \"$_POST['username']\", \"$_POST['password']\", '$username', '$password', \"$_SERVER['REMOTE_ADDR']\"]\n"
     ]
    }
   ],
   "source": [
    "print(js_vars)\n",
    "print(php_vars)"
   ]
  },
  {
   "cell_type": "code",
   "execution_count": null,
   "metadata": {},
   "outputs": [],
   "source": [
    "def code_cleaner(filename):\n",
    "    with open(filename, 'r') as f:\n",
    "        code = f.read()\n",
    "\n",
    "    # GENERAL: \n",
    "    # remove multiline comments\n",
    "    code = re.sub(r'/\\*(.*?)\\*/', '', code, flags=re.DOTALL)\n",
    "    # remove all single line comments (//|#) except if (//|#) is inside of a string like \"htes // asdf\" or 'htes # asdf'\n",
    "    code = re.sub(r'(?<!\\\\)([\"\\'])(?:\\\\.|(?!\\1).)*?\\1|//.*?$|#.*?$', \n",
    "                  lambda m: m.group(0) if m.group(0).startswith('\"') or m.group(0).startswith(\"'\") else '', code, flags=re.MULTILINE)\n",
    "    # remove all newlines after a ( ,|.|\\(|\\[ ) or spaces after a ( ,|.|\\(|\\[ )\n",
    "    code = re.sub(r'(\\[|\\(|,|\\.)\\s+', r'\\1', code)\n",
    "    # remove all newlines before a ( ,|.|;|\\)|\\] ) or spaces before a ( ,|.|;|\\)|\\] )\n",
    "    code = re.sub(r'\\s+(\\]|\\)|,|\\.|;)', r'\\1', code)\n",
    "    # remove all trailing comma before a ( \\) | \\] )\n",
    "    code = re.sub(r',(\\s*[\\]\\)])', r'\\1', code)\n",
    "    # split code into lines\n",
    "    code = code.split('\\n')\n",
    "    # remove leading and trailing whitespace\n",
    "    code = [line.strip() for line in code]\n",
    "    # remove all semi-colons at the end of a line\n",
    "    code = [re.sub(r'(;|{)$', '', line).strip() for line in code]\n",
    "    \n",
    "    # After removing aliens, we can remove some twigs symbols, single words and numbers\n",
    "    # remove all elements that are one word or numeric only in a string or symbols only in a string\n",
    "    code = [line for line in code if not re.match(r'^\\W+$', line) \n",
    "                                        and not re.match(r'^\\w+$', line) \n",
    "                                            and not re.match(r'^\\d+$', line)]\n",
    "\n",
    "    # PHP:\n",
    "    # remove all php tags\n",
    "    code = [line for line in code if not line.startswith('<?php') and not line.startswith('?>')]\n",
    "\n",
    "    # lastly remove all empty lines\n",
    "    code = list(filter(None, code))\n",
    "\n",
    "    return code\n"
   ]
  },
  {
   "cell_type": "code",
   "execution_count": null,
   "metadata": {},
   "outputs": [
    {
     "data": {
      "text/plain": [
       "[\"const express = require('express')\",\n",
       " \"const crypto = require('crypto')\",\n",
       " 'const app = express()',\n",
       " \"const db = require('better-sqlite3')('db.sqlite3')\",\n",
       " 'db.exec(`DROP TABLE IF EXISTS users;`)',\n",
       " 'db.exec(`CREATE TABLE users(id INTEGER PRIMARY KEY,username TEXT,password TEXT);`)',\n",
       " 'const FLAG = process.env.FLAG || \"dice{test_flag}\"',\n",
       " 'const PORT = process.env.PORT || 3000',\n",
       " 'const users = [...Array(100_000)].map(() => ({ user: `user-${crypto.randomUUID()}`,pass: crypto.randomBytes(8).toString(\"hex\") }))',\n",
       " 'db.exec(`INSERT INTO users (id,username,password) VALUES ${users.map((u,i) => `(${i},\\'${u.user}\\',\\'${u.pass}\\')`).join(\",\")}`)',\n",
       " 'const isAdmin = {}',\n",
       " 'const newAdmin = users[Math.floor(Math.random() * users.length)]',\n",
       " 'isAdmin[newAdmin.user] = true',\n",
       " 'app.use(express.urlencoded({ extended: false }))',\n",
       " 'app.use(express.static(\"public\"))',\n",
       " 'app.post(\"/api/login\",(req,res) =>',\n",
       " 'const { user,pass } = req.body',\n",
       " 'console.log(\"[REQUEST BODY] : \",req.body)',\n",
       " \"const query = `SELECT id FROM users WHERE username = '${user}' AND password = '${pass}';`\",\n",
       " 'const id = db.prepare(query).get()?.id',\n",
       " 'console.log(query,\"[ID] : \",id)',\n",
       " 'if (!id)',\n",
       " 'return res.redirect(\"/?message=Incorrect username or password\")',\n",
       " 'if (users[id] && isAdmin[user])',\n",
       " 'console.log(\"Bypassing login...\")',\n",
       " 'return res.redirect(\"/?flag=\" + encodeURIComponent(FLAG))',\n",
       " 'return res.redirect(\"/?message=This system is currently only available to admins...\")',\n",
       " 'return res.redirect(\"/?message=Nice try...\")',\n",
       " 'app.listen(PORT,() => console.log(`web/funnylogin listening on port ${PORT}`))']"
      ]
     },
     "execution_count": 395,
     "metadata": {},
     "output_type": "execute_result"
    }
   ],
   "source": [
    "js_code = code_cleaner(js_samples[0])\n",
    "js_code"
   ]
  },
  {
   "cell_type": "code",
   "execution_count": null,
   "metadata": {},
   "outputs": [
    {
     "data": {
      "text/plain": [
       "[\"$a = 'Simple string'\",\n",
       " 'function query($a)',\n",
       " 'echo $a',\n",
       " 'query($a)',\n",
       " \"$b = $_GET['q']\",\n",
       " '$sql = `SELECT * FROM table WHERE id = ${b}`',\n",
       " \"if($_SERVER['REQUEST_METHOD'] === 'POST')\",\n",
       " \"$c = $_POST['c']\",\n",
       " '$sql = `SELECT * FROM table WHERE id = ${c}`',\n",
       " 'function SQLQuery($sql)',\n",
       " 'echo $sql',\n",
       " 'error_reporting(0)',\n",
       " 'function Check_Admin($input)',\n",
       " \"$input = iconv ('UTF-8','US-ASCII//TRANSLIT',$input)\",\n",
       " 'if(preg_match(\"/admin/i\",$input))',\n",
       " 'return true',\n",
       " 'return false',\n",
       " 'function send_to_api($data)',\n",
       " 'print_r($data)',\n",
       " \"$api_url = 'http://127.0.0.1:5000/login'\",\n",
       " \"$options = ['http' => ['method' => 'POST','header' => 'Content-Type: application/x-www-form-urlencoded','content' => $data]]\",\n",
       " '$context = stream_context_create($options)',\n",
       " '$result = file_get_contents($api_url,false,$context)',\n",
       " 'if ($result !== false)',\n",
       " 'echo \"Response from Flask app: $result\"',\n",
       " 'echo \"Failed to communicate with Flask app.\"',\n",
       " \"if(isset($_POST['login-submit']))\",\n",
       " \"if(!empty($_POST['username'])&&!empty($_POST['password']))\",\n",
       " \"$username=$_POST['username']\",\n",
       " \"$password=md5($_POST['password'])\",\n",
       " 'if(Check_Admin($username) && $_SERVER[\\'REMOTE_ADDR\\']!==\"127.0.0.1\")',\n",
       " 'die(\"Admin Login allowed from localhost only :)\")',\n",
       " 'send_to_api(file_get_contents(\"php://input\"))',\n",
       " 'echo \"<script>alert(\\'Please Fill All Fields\\')</script>\"',\n",
       " 'echo \"Test\".\"Test\".\"Test\"']"
      ]
     },
     "execution_count": 396,
     "metadata": {},
     "output_type": "execute_result"
    }
   ],
   "source": [
    "php_code = code_cleaner(php_samples[0])\n",
    "php_code"
   ]
  },
  {
   "cell_type": "code",
   "execution_count": null,
   "metadata": {},
   "outputs": [],
   "source": [
    "# Extract the variable references of JS and PHP\n",
    "def extract_vars_references(vars, code):\n",
    "    references = []\n",
    "    for var in vars:\n",
    "        # case sensitive and match whole word only or if wrapped in a special character\n",
    "        var_pattern = r'(?<!\\w)' + re.escape(var) + r'(?!\\w)'\n",
    "        \n",
    "        var_references = []\n",
    "        for line in code:\n",
    "            if re.search(var_pattern, line):\n",
    "                var_references.append(line)\n",
    "        references.append((var, var_references))\n",
    "\n",
    "    return references"
   ]
  },
  {
   "cell_type": "code",
   "execution_count": null,
   "metadata": {},
   "outputs": [
    {
     "name": "stdout",
     "output_type": "stream",
     "text": [
      "[('express',\n",
      "  [\"const express = require('express')\",\n",
      "   'const app = express()',\n",
      "   'app.use(express.urlencoded({ extended: false }))',\n",
      "   'app.use(express.static(\"public\"))']),\n",
      " ('crypto',\n",
      "  [\"const crypto = require('crypto')\",\n",
      "   'const users = [...Array(100_000)].map(() => ({ user: '\n",
      "   '`user-${crypto.randomUUID()}`,pass: crypto.randomBytes(8).toString(\"hex\") '\n",
      "   '}))']),\n",
      " ('app',\n",
      "  ['const app = express()',\n",
      "   'app.use(express.urlencoded({ extended: false }))',\n",
      "   'app.use(express.static(\"public\"))',\n",
      "   'app.post(\"/api/login\",(req,res) =>',\n",
      "   'app.listen(PORT,() => console.log(`web/funnylogin listening on port '\n",
      "   '${PORT}`))']),\n",
      " ('db',\n",
      "  [\"const db = require('better-sqlite3')('db.sqlite3')\",\n",
      "   'db.exec(`DROP TABLE IF EXISTS users;`)',\n",
      "   'db.exec(`CREATE TABLE users(id INTEGER PRIMARY KEY,username TEXT,password '\n",
      "   'TEXT);`)',\n",
      "   'db.exec(`INSERT INTO users (id,username,password) VALUES ${users.map((u,i) '\n",
      "   '=> `(${i},\\'${u.user}\\',\\'${u.pass}\\')`).join(\",\")}`)',\n",
      "   'const id = db.prepare(query).get()?.id']),\n",
      " ('FLAG',\n",
      "  ['const FLAG = process.env.FLAG || \"dice{test_flag}\"',\n",
      "   'return res.redirect(\"/?flag=\" + encodeURIComponent(FLAG))']),\n",
      " ('PORT',\n",
      "  ['const PORT = process.env.PORT || 3000',\n",
      "   'app.listen(PORT,() => console.log(`web/funnylogin listening on port '\n",
      "   '${PORT}`))']),\n",
      " ('users',\n",
      "  ['db.exec(`DROP TABLE IF EXISTS users;`)',\n",
      "   'db.exec(`CREATE TABLE users(id INTEGER PRIMARY KEY,username TEXT,password '\n",
      "   'TEXT);`)',\n",
      "   'const users = [...Array(100_000)].map(() => ({ user: '\n",
      "   '`user-${crypto.randomUUID()}`,pass: crypto.randomBytes(8).toString(\"hex\") '\n",
      "   '}))',\n",
      "   'db.exec(`INSERT INTO users (id,username,password) VALUES ${users.map((u,i) '\n",
      "   '=> `(${i},\\'${u.user}\\',\\'${u.pass}\\')`).join(\",\")}`)',\n",
      "   'const newAdmin = users[Math.floor(Math.random() * users.length)]',\n",
      "   \"const query = `SELECT id FROM users WHERE username = '${user}' AND \"\n",
      "   \"password = '${pass}';`\",\n",
      "   'if (users[id] && isAdmin[user])']),\n",
      " ('isAdmin',\n",
      "  ['const isAdmin = {}',\n",
      "   'isAdmin[newAdmin.user] = true',\n",
      "   'if (users[id] && isAdmin[user])']),\n",
      " ('newAdmin',\n",
      "  ['const newAdmin = users[Math.floor(Math.random() * users.length)]',\n",
      "   'isAdmin[newAdmin.user] = true']),\n",
      " ('user',\n",
      "  ['const users = [...Array(100_000)].map(() => ({ user: '\n",
      "   '`user-${crypto.randomUUID()}`,pass: crypto.randomBytes(8).toString(\"hex\") '\n",
      "   '}))',\n",
      "   'db.exec(`INSERT INTO users (id,username,password) VALUES ${users.map((u,i) '\n",
      "   '=> `(${i},\\'${u.user}\\',\\'${u.pass}\\')`).join(\",\")}`)',\n",
      "   'isAdmin[newAdmin.user] = true',\n",
      "   'const { user,pass } = req.body',\n",
      "   \"const query = `SELECT id FROM users WHERE username = '${user}' AND \"\n",
      "   \"password = '${pass}';`\",\n",
      "   'if (users[id] && isAdmin[user])']),\n",
      " ('pass',\n",
      "  ['const users = [...Array(100_000)].map(() => ({ user: '\n",
      "   '`user-${crypto.randomUUID()}`,pass: crypto.randomBytes(8).toString(\"hex\") '\n",
      "   '}))',\n",
      "   'db.exec(`INSERT INTO users (id,username,password) VALUES ${users.map((u,i) '\n",
      "   '=> `(${i},\\'${u.user}\\',\\'${u.pass}\\')`).join(\",\")}`)',\n",
      "   'const { user,pass } = req.body',\n",
      "   \"const query = `SELECT id FROM users WHERE username = '${user}' AND \"\n",
      "   \"password = '${pass}';`\"]),\n",
      " ('query',\n",
      "  [\"const query = `SELECT id FROM users WHERE username = '${user}' AND \"\n",
      "   \"password = '${pass}';`\",\n",
      "   'const id = db.prepare(query).get()?.id',\n",
      "   'console.log(query,\"[ID] : \",id)']),\n",
      " ('id',\n",
      "  ['db.exec(`CREATE TABLE users(id INTEGER PRIMARY KEY,username TEXT,password '\n",
      "   'TEXT);`)',\n",
      "   'db.exec(`INSERT INTO users (id,username,password) VALUES ${users.map((u,i) '\n",
      "   '=> `(${i},\\'${u.user}\\',\\'${u.pass}\\')`).join(\",\")}`)',\n",
      "   \"const query = `SELECT id FROM users WHERE username = '${user}' AND \"\n",
      "   \"password = '${pass}';`\",\n",
      "   'const id = db.prepare(query).get()?.id',\n",
      "   'console.log(query,\"[ID] : \",id)',\n",
      "   'if (!id)',\n",
      "   'if (users[id] && isAdmin[user])'])]\n"
     ]
    }
   ],
   "source": [
    "js_vars_references = extract_vars_references(js_vars, js_code)\n",
    "# print(js_vars)\n",
    "pprint(js_vars_references)"
   ]
  },
  {
   "cell_type": "code",
   "execution_count": null,
   "metadata": {},
   "outputs": [
    {
     "name": "stdout",
     "output_type": "stream",
     "text": [
      "['$a', '$b', \"$_GET['q']\", '$sql', \"$_SERVER['REQUEST_METHOD']\", '$c', \"$_POST['c']\", '$input', '$data', '$api_url', '$options', '$context', '$result', \"$_POST['login-submit']\", \"$_POST['username']\", \"$_POST['password']\", '$username', '$password', \"$_SERVER['REMOTE_ADDR']\"]\n",
      "[('$a', [\"$a = 'Simple string'\", 'function query($a)', 'echo $a', 'query($a)']),\n",
      " ('$b', [\"$b = $_GET['q']\"]),\n",
      " (\"$_GET['q']\", [\"$b = $_GET['q']\"]),\n",
      " ('$sql',\n",
      "  ['$sql = `SELECT * FROM table WHERE id = ${b}`',\n",
      "   '$sql = `SELECT * FROM table WHERE id = ${c}`',\n",
      "   'function SQLQuery($sql)',\n",
      "   'echo $sql']),\n",
      " (\"$_SERVER['REQUEST_METHOD']\", [\"if($_SERVER['REQUEST_METHOD'] === 'POST')\"]),\n",
      " ('$c', [\"$c = $_POST['c']\"]),\n",
      " (\"$_POST['c']\", [\"$c = $_POST['c']\"]),\n",
      " ('$input',\n",
      "  ['function Check_Admin($input)',\n",
      "   \"$input = iconv ('UTF-8','US-ASCII//TRANSLIT',$input)\",\n",
      "   'if(preg_match(\"/admin/i\",$input))']),\n",
      " ('$data',\n",
      "  ['function send_to_api($data)',\n",
      "   'print_r($data)',\n",
      "   \"$options = ['http' => ['method' => 'POST','header' => 'Content-Type: \"\n",
      "   \"application/x-www-form-urlencoded','content' => $data]]\"]),\n",
      " ('$api_url',\n",
      "  [\"$api_url = 'http://127.0.0.1:5000/login'\",\n",
      "   '$result = file_get_contents($api_url,false,$context)']),\n",
      " ('$options',\n",
      "  [\"$options = ['http' => ['method' => 'POST','header' => 'Content-Type: \"\n",
      "   \"application/x-www-form-urlencoded','content' => $data]]\",\n",
      "   '$context = stream_context_create($options)']),\n",
      " ('$context',\n",
      "  ['$context = stream_context_create($options)',\n",
      "   '$result = file_get_contents($api_url,false,$context)']),\n",
      " ('$result',\n",
      "  ['$result = file_get_contents($api_url,false,$context)',\n",
      "   'if ($result !== false)',\n",
      "   'echo \"Response from Flask app: $result\"']),\n",
      " (\"$_POST['login-submit']\", [\"if(isset($_POST['login-submit']))\"]),\n",
      " (\"$_POST['username']\",\n",
      "  [\"if(!empty($_POST['username'])&&!empty($_POST['password']))\",\n",
      "   \"$username=$_POST['username']\"]),\n",
      " (\"$_POST['password']\",\n",
      "  [\"if(!empty($_POST['username'])&&!empty($_POST['password']))\",\n",
      "   \"$password=md5($_POST['password'])\"]),\n",
      " ('$username',\n",
      "  [\"$username=$_POST['username']\",\n",
      "   'if(Check_Admin($username) && $_SERVER[\\'REMOTE_ADDR\\']!==\"127.0.0.1\")']),\n",
      " ('$password', [\"$password=md5($_POST['password'])\"]),\n",
      " (\"$_SERVER['REMOTE_ADDR']\",\n",
      "  ['if(Check_Admin($username) && $_SERVER[\\'REMOTE_ADDR\\']!==\"127.0.0.1\")'])]\n"
     ]
    }
   ],
   "source": [
    "php_vars_references = extract_vars_references(php_vars, php_code)\n",
    "# print(\"VARAIBLES:\", php_vars)\n",
    "# print(\"REFERENCES:\")\n",
    "# for var, refs in php_vars_references:\n",
    "#     print(\"VAR:\", var)\n",
    "#     print(\"REFS:\", refs)\n",
    "#     print()\n",
    "print(php_vars)\n",
    "pprint(php_vars_references)"
   ]
  },
  {
   "cell_type": "code",
   "execution_count": null,
   "metadata": {},
   "outputs": [],
   "source": [
    "def check_variable_usage(code_snippet):\n",
    "    # php regex rules for catching tainted variables with user input\n",
    "    php_pattern = re.compile(r'\\b(?:php|http)://|(?:(\\$_(?:GET|POST|REQUEST|SERVER|COOKIE|ENV|FILES)\\b)|\\b(?:GET|POST|REQUEST|SERVER|COOKIE|ENV|FILES)\\b)\\b')\n",
    "    # pure js regex rules for catching tainted variables with user input\n",
    "    js_pattern = re.compile(r'(?:req|request)\\.(?:body|params|query|headers)', re.IGNORECASE)\n",
    "    # express js regex rules for catching tainted variables with user input\n",
    "    express_js_pattern = re.compile(r'(?:req|request)\\.(?:body|params|query|headers|param|queryparam|get|post|paramfrom)', re.IGNORECASE)\n",
    "\n",
    "    php_match = re.search(php_pattern, code_snippet)\n",
    "    js_match = re.search(js_pattern, code_snippet)\n",
    "    express_js_match = re.search(express_js_pattern, code_snippet)\n",
    "\n",
    "    return bool(php_match), bool(js_match), bool(express_js_match)\n"
   ]
  },
  {
   "cell_type": "code",
   "execution_count": null,
   "metadata": {},
   "outputs": [],
   "source": [
    "\n",
    "def get_tainted_variables(references):\n",
    "    tainted_variables = set()\n",
    "\n",
    "    for var, snippets in references:\n",
    "        for snippet in snippets:\n",
    "            matches = check_variable_usage(snippet)\n",
    "            if any(matches):\n",
    "                tainted_variables.add(var)\n",
    "\n",
    "    return list(tainted_variables)\n"
   ]
  },
  {
   "cell_type": "code",
   "execution_count": null,
   "metadata": {},
   "outputs": [
    {
     "name": "stdout",
     "output_type": "stream",
     "text": [
      "Tainted JS\n",
      "['user', 'pass']\n",
      "\n",
      "Tainted PHP\n",
      "[\"$_SERVER['REMOTE_ADDR']\",\n",
      " '$username',\n",
      " '$password',\n",
      " \"$_GET['q']\",\n",
      " \"$_POST['username']\",\n",
      " \"$_SERVER['REQUEST_METHOD']\",\n",
      " '$api_url',\n",
      " '$b',\n",
      " '$data',\n",
      " '$options',\n",
      " \"$_POST['login-submit']\",\n",
      " \"$_POST['c']\",\n",
      " \"$_POST['password']\",\n",
      " '$c']\n"
     ]
    }
   ],
   "source": [
    "tainted_js_vars = get_tainted_variables(js_vars_references)\n",
    "tainted_php_vars = get_tainted_variables(php_vars_references)\n",
    "\n",
    "print(\"Tainted JS\")\n",
    "pprint(tainted_js_vars)\n",
    "print()\n",
    "print(\"Tainted PHP\")\n",
    "pprint(tainted_php_vars)\n"
   ]
  },
  {
   "cell_type": "code",
   "execution_count": null,
   "metadata": {},
   "outputs": [],
   "source": [
    "def extract_tainted_snippets(references, tainted_variables):\n",
    "    tainted_var_and_snippets = []\n",
    "\n",
    "    regex_pattern = r'(?<![a-zA-Z0-9_]){}(?![a-zA-Z0-9_])'\n",
    "\n",
    "    for tainted_var in tainted_variables:\n",
    "        tainted_snippets = set()  # Initialize a set to store tainted snippets for each variable so that we don't have duplicates\n",
    "        for var, snippets in references:\n",
    "            for snippet in snippets:\n",
    "                if re.findall(regex_pattern.format(re.escape(tainted_var)), snippet, flags=re.IGNORECASE):\n",
    "                    tainted_snippets.add(snippet)  # Add the tainted snippet to the set\n",
    "                    break  # Stop searching for this snippet if a tainted variable is found\n",
    "        # Append variable and its tainted snippets\n",
    "        tainted_var_and_snippets.append((tainted_var, list(tainted_snippets)))  # Convert the set to a list and append to the list of tainted variables and snippets\n",
    "\n",
    "    return tainted_var_and_snippets\n",
    "            "
   ]
  },
  {
   "cell_type": "code",
   "execution_count": null,
   "metadata": {},
   "outputs": [
    {
     "name": "stdout",
     "output_type": "stream",
     "text": [
      "[('user',\n",
      "  [\"const query = `SELECT id FROM users WHERE username = '${user}' AND \"\n",
      "   \"password = '${pass}';`\",\n",
      "   'db.exec(`INSERT INTO users (id,username,password) VALUES ${users.map((u,i) '\n",
      "   '=> `(${i},\\'${u.user}\\',\\'${u.pass}\\')`).join(\",\")}`)',\n",
      "   'const users = [...Array(100_000)].map(() => ({ user: '\n",
      "   '`user-${crypto.randomUUID()}`,pass: crypto.randomBytes(8).toString(\"hex\") '\n",
      "   '}))',\n",
      "   'isAdmin[newAdmin.user] = true']),\n",
      " ('pass',\n",
      "  [\"const query = `SELECT id FROM users WHERE username = '${user}' AND \"\n",
      "   \"password = '${pass}';`\",\n",
      "   'db.exec(`INSERT INTO users (id,username,password) VALUES ${users.map((u,i) '\n",
      "   '=> `(${i},\\'${u.user}\\',\\'${u.pass}\\')`).join(\",\")}`)',\n",
      "   'const users = [...Array(100_000)].map(() => ({ user: '\n",
      "   '`user-${crypto.randomUUID()}`,pass: crypto.randomBytes(8).toString(\"hex\") '\n",
      "   '}))'])]\n",
      "\n",
      "[(\"$_SERVER['REMOTE_ADDR']\",\n",
      "  ['if(Check_Admin($username) && $_SERVER[\\'REMOTE_ADDR\\']!==\"127.0.0.1\")']),\n",
      " ('$username',\n",
      "  [\"$username=$_POST['username']\",\n",
      "   'if(Check_Admin($username) && $_SERVER[\\'REMOTE_ADDR\\']!==\"127.0.0.1\")']),\n",
      " ('$password', [\"$password=md5($_POST['password'])\"]),\n",
      " (\"$_GET['q']\", [\"$b = $_GET['q']\"]),\n",
      " (\"$_POST['username']\",\n",
      "  [\"$username=$_POST['username']\",\n",
      "   \"if(!empty($_POST['username'])&&!empty($_POST['password']))\"]),\n",
      " (\"$_SERVER['REQUEST_METHOD']\", [\"if($_SERVER['REQUEST_METHOD'] === 'POST')\"]),\n",
      " ('$api_url',\n",
      "  ['$result = file_get_contents($api_url,false,$context)',\n",
      "   \"$api_url = 'http://127.0.0.1:5000/login'\"]),\n",
      " ('$b', [\"$b = $_GET['q']\"]),\n",
      " ('$data',\n",
      "  [\"$options = ['http' => ['method' => 'POST','header' => 'Content-Type: \"\n",
      "   \"application/x-www-form-urlencoded','content' => $data]]\",\n",
      "   'function send_to_api($data)']),\n",
      " ('$options',\n",
      "  ['$context = stream_context_create($options)',\n",
      "   \"$options = ['http' => ['method' => 'POST','header' => 'Content-Type: \"\n",
      "   \"application/x-www-form-urlencoded','content' => $data]]\"]),\n",
      " (\"$_POST['login-submit']\", [\"if(isset($_POST['login-submit']))\"]),\n",
      " (\"$_POST['c']\", [\"$c = $_POST['c']\"]),\n",
      " (\"$_POST['password']\",\n",
      "  [\"if(!empty($_POST['username'])&&!empty($_POST['password']))\",\n",
      "   \"$password=md5($_POST['password'])\"]),\n",
      " ('$c', [\"$c = $_POST['c']\"])]\n"
     ]
    }
   ],
   "source": [
    "tainted_js_var_and_code = extract_tainted_snippets(js_vars_references, tainted_js_vars)\n",
    "tainted_php_var_and_code = extract_tainted_snippets(php_vars_references, tainted_php_vars)\n",
    "\n",
    "\n",
    "pprint(tainted_js_var_and_code)\n",
    "print()\n",
    "pprint(tainted_php_var_and_code)"
   ]
  }
 ],
 "metadata": {
  "kernelspec": {
   "display_name": "Python 3",
   "language": "python",
   "name": "python3"
  },
  "language_info": {
   "codemirror_mode": {
    "name": "ipython",
    "version": 3
   },
   "file_extension": ".py",
   "mimetype": "text/x-python",
   "name": "python",
   "nbconvert_exporter": "python",
   "pygments_lexer": "ipython3",
   "version": "3.10.12"
  }
 },
 "nbformat": 4,
 "nbformat_minor": 2
}
