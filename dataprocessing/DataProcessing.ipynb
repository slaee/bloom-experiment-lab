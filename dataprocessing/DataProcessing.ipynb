{
 "cells": [
  {
   "cell_type": "code",
   "execution_count": 1,
   "metadata": {},
   "outputs": [],
   "source": [
    "import subprocess\n",
    "import os\n",
    "import re"
   ]
  },
  {
   "cell_type": "code",
   "execution_count": 2,
   "metadata": {},
   "outputs": [],
   "source": [
    "js_getVARS_loc = os.path.join(os.path.abspath('parsergen'), \"get_vars.js\")\n",
    "php_getVARS_loc = os.path.join(os.path.abspath('parsergen'), \"get_vars.php\")\n",
    "php_samples_loc = os.path.join(os.path.abspath('parsergen'), \"php_samples\")\n",
    "js_samples_loc = os.path.join(os.path.abspath('parsergen'), \"js_samples\")"
   ]
  },
  {
   "cell_type": "code",
   "execution_count": 3,
   "metadata": {},
   "outputs": [
    {
     "name": "stdout",
     "output_type": "stream",
     "text": [
      "/media/shanks/Lab01/CSE/CSE_00003_A/bloom-experiment-lab/dataprocessing/parsergen/get_vars.js\n",
      "/media/shanks/Lab01/CSE/CSE_00003_A/bloom-experiment-lab/dataprocessing/parsergen/get_vars.php\n",
      "/media/shanks/Lab01/CSE/CSE_00003_A/bloom-experiment-lab/dataprocessing/parsergen/php_samples\n",
      "/media/shanks/Lab01/CSE/CSE_00003_A/bloom-experiment-lab/dataprocessing/parsergen/js_samples\n"
     ]
    }
   ],
   "source": [
    "print(js_getVARS_loc)\n",
    "print(php_getVARS_loc)\n",
    "print(php_samples_loc)\n",
    "print(js_samples_loc)"
   ]
  },
  {
   "cell_type": "code",
   "execution_count": 4,
   "metadata": {},
   "outputs": [
    {
     "name": "stdout",
     "output_type": "stream",
     "text": [
      "['/media/shanks/Lab01/CSE/CSE_00003_A/bloom-experiment-lab/dataprocessing/parsergen/php_samples/sample1.php']\n",
      "['/media/shanks/Lab01/CSE/CSE_00003_A/bloom-experiment-lab/dataprocessing/parsergen/js_samples/sample1.js']\n"
     ]
    }
   ],
   "source": [
    "# Get all files with parent directory\n",
    "php_samples = [os.path.join(php_samples_loc, f) for f in os.listdir(php_samples_loc) if os.path.isfile(os.path.join(php_samples_loc, f))]\n",
    "js_samples = [os.path.join(js_samples_loc, f) for f in os.listdir(js_samples_loc) if os.path.isfile(os.path.join(js_samples_loc, f))]\n",
    "\n",
    "print(php_samples)\n",
    "print(js_samples)"
   ]
  },
  {
   "cell_type": "code",
   "execution_count": 5,
   "metadata": {},
   "outputs": [],
   "source": [
    "js_get_vars_sourcetype = \"module\"\n",
    "node_cmd = [\"node\", js_getVARS_loc, js_get_vars_sourcetype, js_samples[0]]\n",
    "php_cmd = [\"php\", php_getVARS_loc, php_samples[0]]\n",
    "\n",
    "try:\n",
    "    node_output = subprocess.check_output(node_cmd, stderr=subprocess.PIPE).decode('utf-8')\n",
    "    jsvars = node_output.split(',')\n",
    "    php_output = subprocess.check_output(php_cmd, stderr=subprocess.PIPE).decode('utf-8')\n",
    "    phpvars = php_output.split(',')\n",
    "except subprocess.CalledProcessError as e:\n",
    "    print(e.stderr)\n"
   ]
  },
  {
   "cell_type": "code",
   "execution_count": 6,
   "metadata": {},
   "outputs": [
    {
     "name": "stdout",
     "output_type": "stream",
     "text": [
      "['express', 'crypto', 'app', 'db', 'FLAG', 'PORT', 'users', 'isAdmin', 'newAdmin', 'undefined', 'query', 'id']\n",
      "['$a', '$b', \"$_GET['q']\", '$sql', \"$_SERVER['REQUEST_METHOD']\", '$c', \"$_POST['c']\", '$input', '$data', '$api_url', '$options', '$context', '$result', \"$_POST['login-submit']\", \"$_POST['username']\", \"$_POST['password']\", '$username', '$password', \"$_SERVER['REMOTE_ADDR']\", '$new', \"$_SERVER['TEST']\"]\n"
     ]
    }
   ],
   "source": [
    "print(jsvars)\n",
    "print(phpvars)"
   ]
  },
  {
   "cell_type": "code",
   "execution_count": 7,
   "metadata": {},
   "outputs": [],
   "source": [
    "def code_cleaner(filename):\n",
    "    with open(filename, 'r') as f:\n",
    "        code = f.read()\n",
    "\n",
    "    # GENERAL: \n",
    "    # remove multiline comments\n",
    "    code = re.sub(r'/\\*(.*?)\\*/', '', code, flags=re.DOTALL)\n",
    "    # remove all single line comments (//|#) except if (//|#) is inside of a string like \"htes // asdf\" or 'htes # asdf'\n",
    "    code = re.sub(r'(?<!\\\\)([\"\\'])(?:\\\\.|(?!\\1).)*?\\1|//.*?$|#.*?$', \n",
    "                  lambda m: m.group(0) if m.group(0).startswith('\"') or m.group(0).startswith(\"'\") else '', code, flags=re.MULTILINE)\n",
    "    # remove all newlines after a ( ,|.|\\(|\\[ ) or spaces after a ( ,|.|\\(|\\[ )\n",
    "    code = re.sub(r'(\\[|\\(|,|\\.)\\s+', r'\\1', code)\n",
    "    # remove all newlines before a ( ,|.|;|\\)|\\] ) or spaces before a ( ,|.|;|\\)|\\] )\n",
    "    code = re.sub(r'\\s+(\\]|\\)|,|\\.|;)', r'\\1', code)\n",
    "    # remove all trailing comma before a ( \\) | \\] )\n",
    "    code = re.sub(r',(\\s*[\\]\\)])', r'\\1', code)\n",
    "    # split code into lines\n",
    "    code = code.split('\\n')\n",
    "    # remove leading and trailing whitespace\n",
    "    code = [line.strip() for line in code]\n",
    "    # remove all semi-colons at the end of a line\n",
    "    code = [re.sub(r'(;|{)$', '', line).strip() for line in code]\n",
    "    \n",
    "    # After removing aliens, we can remove some twigs symbols, single words and numbers\n",
    "    # remove all elements that are one word or numeric only in a string or symbols only in a string\n",
    "    code = [line for line in code if not re.match(r'^\\W+$', line) \n",
    "                                        and not re.match(r'^\\w+$', line) \n",
    "                                            and not re.match(r'^\\d+$', line)]\n",
    "\n",
    "    # PHP:\n",
    "    # remove all php tags\n",
    "    code = [line for line in code if not line.startswith('<?php') and not line.startswith('?>')]\n",
    "\n",
    "    # lastly remove all empty lines\n",
    "    code = list(filter(None, code))\n",
    "\n",
    "    return code\n"
   ]
  },
  {
   "cell_type": "code",
   "execution_count": 8,
   "metadata": {},
   "outputs": [
    {
     "data": {
      "text/plain": [
       "[\"const express = require('express')\",\n",
       " \"const crypto = require('crypto')\",\n",
       " 'const app = express()',\n",
       " \"const db = require('better-sqlite3')('db.sqlite3')\",\n",
       " 'db.exec(`DROP TABLE IF EXISTS users;`)',\n",
       " 'db.exec(`CREATE TABLE users(id INTEGER PRIMARY KEY,username TEXT,password TEXT);`)',\n",
       " 'const FLAG = process.env.FLAG || \"dice{test_flag}\"',\n",
       " 'const PORT = process.env.PORT || 3000',\n",
       " 'const users = [...Array(100_000)].map(() => ({ user: `user-${crypto.randomUUID()}`,pass: crypto.randomBytes(8).toString(\"hex\") }))',\n",
       " 'db.exec(`INSERT INTO users (id,username,password) VALUES ${users.map((u,i) => `(${i},\\'${u.user}\\',\\'${u.pass}\\')`).join(\",\")}`)',\n",
       " 'const isAdmin = {}',\n",
       " 'const newAdmin = users[Math.floor(Math.random() * users.length)]',\n",
       " 'isAdmin[newAdmin.user] = true',\n",
       " 'app.use(express.urlencoded({ extended: false }))',\n",
       " 'app.use(express.static(\"public\"))',\n",
       " 'app.post(\"/api/login\",(req,res) =>',\n",
       " 'const { user,pass } = req.body',\n",
       " 'console.log(\"[REQUEST BODY] : \",req.body)',\n",
       " \"const query = `SELECT id FROM users WHERE username = '${user}' AND password = '${pass}';`\",\n",
       " 'const id = db.prepare(query).get()?.id',\n",
       " 'console.log(query,\"[ID] : \",id)',\n",
       " 'if (!id)',\n",
       " 'return res.redirect(\"/?message=Incorrect username or password\")',\n",
       " 'if (users[id] && isAdmin[user])',\n",
       " 'console.log(\"Bypassing login...\")',\n",
       " 'return res.redirect(\"/?flag=\" + encodeURIComponent(FLAG))',\n",
       " 'return res.redirect(\"/?message=This system is currently only available to admins...\")',\n",
       " 'return res.redirect(\"/?message=Nice try...\")',\n",
       " 'app.listen(PORT,() => console.log(`web/funnylogin listening on port ${PORT}`))']"
      ]
     },
     "execution_count": 8,
     "metadata": {},
     "output_type": "execute_result"
    }
   ],
   "source": [
    "js_code = code_cleaner(js_samples[0])\n",
    "js_code"
   ]
  },
  {
   "cell_type": "code",
   "execution_count": 9,
   "metadata": {},
   "outputs": [
    {
     "data": {
      "text/plain": [
       "[\"$a = 'Simple string'\",\n",
       " 'function query($a)',\n",
       " 'echo $a',\n",
       " 'query($a)',\n",
       " \"$b = $_GET['q']\",\n",
       " '$sql = `SELECT * FROM table WHERE id = ${b}`',\n",
       " \"if($_SERVER['REQUEST_METHOD'] === 'POST')\",\n",
       " \"$c = $_POST['c']\",\n",
       " '$sql = `SELECT * FROM table WHERE id = ${c}`',\n",
       " 'function SQLQuery($sql)',\n",
       " 'echo $sql',\n",
       " 'error_reporting(0)',\n",
       " 'function Check_Admin($input)',\n",
       " \"$input = iconv ('UTF-8','US-ASCII//TRANSLIT',$input)\",\n",
       " 'if(preg_match(\"/admin/i\",$input))',\n",
       " 'return true',\n",
       " 'return false',\n",
       " 'function send_to_api($data)',\n",
       " 'print_r($data)',\n",
       " \"$api_url = 'http://127.0.0.1:5000/login'\",\n",
       " \"$options = ['http' => ['method' => 'POST','header' => 'Content-Type: application/x-www-form-urlencoded','content' => $data]]\",\n",
       " '$context = stream_context_create($options)',\n",
       " '$result = file_get_contents($api_url,false,$context)',\n",
       " 'if ($result !== false)',\n",
       " 'echo \"Response from Flask app: $result\"',\n",
       " 'echo \"Failed to communicate with Flask app.\"',\n",
       " \"if(isset($_POST['login-submit']))\",\n",
       " \"if(!empty($_POST['username'])&&!empty($_POST['password']))\",\n",
       " \"$username=$_POST['username']\",\n",
       " \"$password=md5($_POST['password'])\",\n",
       " 'if(Check_Admin($username) && $_SERVER[\\'REMOTE_ADDR\\']!==\"127.0.0.1\")',\n",
       " 'die(\"Admin Login allowed from localhost only :)\")',\n",
       " 'send_to_api(file_get_contents(\"php://input\"))',\n",
       " 'echo \"<script>alert(\\'Please Fill All Fields\\')</script>\"',\n",
       " 'echo \"Test\".\"Test\".\"Test\"',\n",
       " '<!DOCTYPE html>',\n",
       " '<html>',\n",
       " '<head>',\n",
       " '<title>Sample</title>',\n",
       " '</head>',\n",
       " '<body>',\n",
       " '$new = \"New\"',\n",
       " '<form method=\"POST\" action=\"\">',\n",
       " '<input type=\"text\" name=\"username\" placeholder=\"Username\">',\n",
       " '<input type=\"password\" name=\"password\" placeholder=\"Password\">',\n",
       " '<input type=\"submit\" name=\"login-submit\" value=\"Login\">',\n",
       " '</form>',\n",
       " '$_SERVER[\\'TEST\\'] = \"Test\"',\n",
       " '</body>',\n",
       " '</html>']"
      ]
     },
     "execution_count": 9,
     "metadata": {},
     "output_type": "execute_result"
    }
   ],
   "source": [
    "php_code = code_cleaner(php_samples[0])\n",
    "php_code"
   ]
  },
  {
   "cell_type": "code",
   "execution_count": 11,
   "metadata": {},
   "outputs": [],
   "source": [
    "from sklearn.feature_extraction.text import CountVectorizer\n",
    "from sklearn.model_selection import train_test_split\n"
   ]
  }
 ],
 "metadata": {
  "kernelspec": {
   "display_name": "Python 3",
   "language": "python",
   "name": "python3"
  },
  "language_info": {
   "codemirror_mode": {
    "name": "ipython",
    "version": 3
   },
   "file_extension": ".py",
   "mimetype": "text/x-python",
   "name": "python",
   "nbconvert_exporter": "python",
   "pygments_lexer": "ipython3",
   "version": "3.11.8"
  }
 },
 "nbformat": 4,
 "nbformat_minor": 2
}
