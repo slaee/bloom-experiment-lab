{
 "cells": [
  {
   "cell_type": "code",
   "execution_count": 26,
   "metadata": {},
   "outputs": [],
   "source": [
    "import subprocess\n",
    "import os"
   ]
  },
  {
   "cell_type": "code",
   "execution_count": 27,
   "metadata": {},
   "outputs": [],
   "source": [
    "js_getVARS_loc = os.path.join(os.path.abspath('parsergen'), \"get_vars.js\")\n",
    "php_getVARS_loc = os.path.join(os.path.abspath('parsergen'), \"get_vars.php\")\n",
    "php_samples_loc = os.path.join(os.path.abspath('parsergen'), \"php_samples\")\n",
    "js_samples_loc = os.path.join(os.path.abspath('parsergen'), \"js_samples\")"
   ]
  },
  {
   "cell_type": "code",
   "execution_count": 28,
   "metadata": {},
   "outputs": [
    {
     "name": "stdout",
     "output_type": "stream",
     "text": [
      "/home/shanks/CSE_00003_A/bloom-experiment-lab/dataprocessing/parsergen/get_vars.js\n",
      "/home/shanks/CSE_00003_A/bloom-experiment-lab/dataprocessing/parsergen/get_vars.php\n",
      "/home/shanks/CSE_00003_A/bloom-experiment-lab/dataprocessing/parsergen/php_samples\n",
      "/home/shanks/CSE_00003_A/bloom-experiment-lab/dataprocessing/parsergen/js_samples\n"
     ]
    }
   ],
   "source": [
    "print(js_getVARS_loc)\n",
    "print(php_getVARS_loc)\n",
    "print(php_samples_loc)\n",
    "print(js_samples_loc)"
   ]
  },
  {
   "cell_type": "code",
   "execution_count": 29,
   "metadata": {},
   "outputs": [
    {
     "name": "stdout",
     "output_type": "stream",
     "text": [
      "['/home/shanks/CSE_00003_A/bloom-experiment-lab/dataprocessing/parsergen/php_samples/sample1.php']\n",
      "['/home/shanks/CSE_00003_A/bloom-experiment-lab/dataprocessing/parsergen/js_samples/sample1.js']\n"
     ]
    }
   ],
   "source": [
    "# Get all files with parent directory\n",
    "php_samples = [os.path.join(php_samples_loc, f) for f in os.listdir(php_samples_loc) if os.path.isfile(os.path.join(php_samples_loc, f))]\n",
    "js_samples = [os.path.join(js_samples_loc, f) for f in os.listdir(js_samples_loc) if os.path.isfile(os.path.join(js_samples_loc, f))]\n",
    "\n",
    "print(php_samples)\n",
    "print(js_samples)"
   ]
  },
  {
   "cell_type": "code",
   "execution_count": 38,
   "metadata": {},
   "outputs": [
    {
     "name": "stdout",
     "output_type": "stream",
     "text": [
      "['express', 'crypto', 'app', 'db', 'FLAG', 'PORT', 'users', 'isAdmin', 'newAdmin', 'undefined', 'query', 'id']\n",
      "['$input', '$data', '$api_url', '$options', '$context', '$result', \"$_POST['login-submit']\", \"$_POST['username']\", \"$_POST['password']\", '$username', '$password', \"$_SERVER['REMOTE_ADDR']\"]\n"
     ]
    }
   ],
   "source": [
    "js_get_vars_sourcetype = \"module\"\n",
    "node_cmd = [\"node\", js_getVARS_loc, js_get_vars_sourcetype, js_samples[0]]\n",
    "php_cmd = [\"php\", php_getVARS_loc, php_samples[0]]\n",
    "\n",
    "try:\n",
    "    node_output = subprocess.check_output(node_cmd, stderr=subprocess.PIPE).decode('utf-8')\n",
    "    jsvars = node_output.split(',')\n",
    "    print(jsvars)\n",
    "    php_output = subprocess.check_output(php_cmd, stderr=subprocess.PIPE).decode('utf-8')\n",
    "    phpvars = php_output.split(',')\n",
    "    print(phpvars)\n",
    "except subprocess.CalledProcessError as e:\n",
    "    print(e.stderr)\n"
   ]
  }
 ],
 "metadata": {
  "kernelspec": {
   "display_name": "Python 3",
   "language": "python",
   "name": "python3"
  },
  "language_info": {
   "codemirror_mode": {
    "name": "ipython",
    "version": 3
   },
   "file_extension": ".py",
   "mimetype": "text/x-python",
   "name": "python",
   "nbconvert_exporter": "python",
   "pygments_lexer": "ipython3",
   "version": "3.11.8"
  }
 },
 "nbformat": 4,
 "nbformat_minor": 2
}
